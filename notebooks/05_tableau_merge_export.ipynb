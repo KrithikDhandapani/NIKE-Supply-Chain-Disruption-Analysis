{
 "cells": [
  {
   "cell_type": "code",
   "execution_count": 7,
   "id": "000dc054-5355-4e4d-9604-805c8f12529d",
   "metadata": {},
   "outputs": [
    {
     "name": "stdout",
     "output_type": "stream",
     "text": [
      "Tableau dataset saved\n",
      "Merged shape:  (129, 14)\n"
     ]
    }
   ],
   "source": [
    "import pandas as pd\n",
    "\n",
    "# Loading Datasets\n",
    "eda = pd.read_csv(\"../data/processed/eda_shipping_features.csv\")\n",
    "preds = pd.read_csv(\"../data/processed/model_predictions_inventory.csv\")\n",
    "forecast = pd.read_csv(\"../data/processed/nike_inventory_forecast.csv\")\n",
    "\n",
    "forecast.rename(columns={\"ds\": \"date\"}, inplace=True)\n",
    "\n",
    "# Merging Datasets\n",
    "merged = (\n",
    "    eda.merge(preds, on=\"date\", how=\"outer\")\n",
    "    .merge(forecast, on=\"date\", how=\"outer\")\n",
    "    .sort_values(\"date\")\n",
    ")\n",
    "\n",
    "# Export dataset for Tableau\n",
    "merged.to_csv(\"../data/processed/nike_supplychain_tableau_final.csv\", index=False)\n",
    "print(\"Tableau dataset saved\")\n",
    "print(\"Merged shape: \", merged.shape)"
   ]
  },
  {
   "cell_type": "code",
   "execution_count": 3,
   "id": "33790147-88b2-4b90-8163-c9ebe27b99cb",
   "metadata": {},
   "outputs": [
    {
     "data": {
      "text/html": [
       "<div>\n",
       "<style scoped>\n",
       "    .dataframe tbody tr th:only-of-type {\n",
       "        vertical-align: middle;\n",
       "    }\n",
       "\n",
       "    .dataframe tbody tr th {\n",
       "        vertical-align: top;\n",
       "    }\n",
       "\n",
       "    .dataframe thead th {\n",
       "        text-align: right;\n",
       "    }\n",
       "</style>\n",
       "<table border=\"1\" class=\"dataframe\">\n",
       "  <thead>\n",
       "    <tr style=\"text-align: right;\">\n",
       "      <th></th>\n",
       "      <th>freight_cost_index</th>\n",
       "      <th>oil_price_usd</th>\n",
       "      <th>port_congestion_index</th>\n",
       "    </tr>\n",
       "  </thead>\n",
       "  <tbody>\n",
       "    <tr>\n",
       "      <th>freight_cost_index</th>\n",
       "      <td>1.000000</td>\n",
       "      <td>-0.605221</td>\n",
       "      <td>0.639670</td>\n",
       "    </tr>\n",
       "    <tr>\n",
       "      <th>oil_price_usd</th>\n",
       "      <td>-0.605221</td>\n",
       "      <td>1.000000</td>\n",
       "      <td>-0.592496</td>\n",
       "    </tr>\n",
       "    <tr>\n",
       "      <th>port_congestion_index</th>\n",
       "      <td>0.639670</td>\n",
       "      <td>-0.592496</td>\n",
       "      <td>1.000000</td>\n",
       "    </tr>\n",
       "  </tbody>\n",
       "</table>\n",
       "</div>"
      ],
      "text/plain": [
       "                       freight_cost_index  oil_price_usd  \\\n",
       "freight_cost_index               1.000000      -0.605221   \n",
       "oil_price_usd                   -0.605221       1.000000   \n",
       "port_congestion_index            0.639670      -0.592496   \n",
       "\n",
       "                       port_congestion_index  \n",
       "freight_cost_index                  0.639670  \n",
       "oil_price_usd                      -0.592496  \n",
       "port_congestion_index               1.000000  "
      ]
     },
     "execution_count": 3,
     "metadata": {},
     "output_type": "execute_result"
    }
   ],
   "source": [
    "import pandas as pd\n",
    "\n",
    "# Loading cleaned dataset\n",
    "df = pd.read_csv(\"../data/processed/nike_supplychain_tableau_final.csv\")\n",
    "\n",
    "# Selecting relevent columns\n",
    "cols = [\"freight_cost_index\", \"oil_price_usd\", \"port_congestion_index\"]\n",
    "\n",
    "# Compute correlation\n",
    "corr = df[cols].corr()\n",
    "\n",
    "# Saving as csv\n",
    "corr.to_csv(\"../data/processed/nike_correlation_matrix.csv\")\n",
    "\n",
    "corr"
   ]
  },
  {
   "cell_type": "code",
   "execution_count": null,
   "id": "02f201fd-0d18-45c0-bf58-75f71af57935",
   "metadata": {},
   "outputs": [],
   "source": []
  }
 ],
 "metadata": {
  "kernelspec": {
   "display_name": "Python 3 (ipykernel)",
   "language": "python",
   "name": "python3"
  },
  "language_info": {
   "codemirror_mode": {
    "name": "ipython",
    "version": 3
   },
   "file_extension": ".py",
   "mimetype": "text/x-python",
   "name": "python",
   "nbconvert_exporter": "python",
   "pygments_lexer": "ipython3",
   "version": "3.9.6"
  }
 },
 "nbformat": 4,
 "nbformat_minor": 5
}
