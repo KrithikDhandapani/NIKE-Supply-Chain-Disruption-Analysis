{
 "cells": [
  {
   "cell_type": "code",
   "execution_count": 7,
   "id": "000dc054-5355-4e4d-9604-805c8f12529d",
   "metadata": {},
   "outputs": [
    {
     "name": "stdout",
     "output_type": "stream",
     "text": [
      "Tableau dataset saved\n",
      "Merged shape:  (129, 14)\n"
     ]
    }
   ],
   "source": [
    "import pandas as pd\n",
    "\n",
    "# Loading Datasets\n",
    "eda = pd.read_csv(\"../data/processed/eda_shipping_features.csv\")\n",
    "preds = pd.read_csv(\"../data/processed/model_predictions_inventory.csv\")\n",
    "forecast = pd.read_csv(\"../data/processed/nike_inventory_forecast.csv\")\n",
    "\n",
    "forecast.rename(columns={\"ds\": \"date\"}, inplace=True)\n",
    "\n",
    "# Merging Datasets\n",
    "merged = (\n",
    "    eda.merge(preds, on=\"date\", how=\"outer\")\n",
    "    .merge(forecast, on=\"date\", how=\"outer\")\n",
    "    .sort_values(\"date\")\n",
    ")\n",
    "\n",
    "# Export dataset for Tableau\n",
    "merged.to_csv(\"../data/processed/nike_supplychain_tableau_final.csv\", index=False)\n",
    "print(\"Tableau dataset saved\")\n",
    "print(\"Merged shape: \", merged.shape)"
   ]
  },
  {
   "cell_type": "code",
   "execution_count": null,
   "id": "33790147-88b2-4b90-8163-c9ebe27b99cb",
   "metadata": {},
   "outputs": [],
   "source": []
  }
 ],
 "metadata": {
  "kernelspec": {
   "display_name": "Python 3 (ipykernel)",
   "language": "python",
   "name": "python3"
  },
  "language_info": {
   "codemirror_mode": {
    "name": "ipython",
    "version": 3
   },
   "file_extension": ".py",
   "mimetype": "text/x-python",
   "name": "python",
   "nbconvert_exporter": "python",
   "pygments_lexer": "ipython3",
   "version": "3.9.6"
  }
 },
 "nbformat": 4,
 "nbformat_minor": 5
}
